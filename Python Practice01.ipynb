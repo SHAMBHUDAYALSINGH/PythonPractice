{
 "cells": [
  {
   "cell_type": "code",
   "execution_count": null,
   "metadata": {
    "collapsed": true
   },
   "outputs": [],
   "source": [
    "# Classes and objects\n",
    "\n",
    "    '''Example-01: Class and objects'''\n",
    "    \n",
    "class human:\n",
    "    def __init__(self,name,occu):    \n",
    "        self.name=name\n",
    "        self.occu=occu\n",
    "        \n",
    "    def do_work(self): \n",
    "        if self.occu==\"tennis player\" :\n",
    "            print(self.name, \"plays tennis\") \n",
    "            \n",
    "        elif self.occu==\"actor\":\n",
    "            print(self.name,\"shoot film\")\n",
    "            \n",
    "    def speaks(self):\n",
    "        \n",
    "        print(self.name, \"says how are you?\")\n",
    "        \n",
    "tom=human(\"tom\",\"actor\")\n",
    "tom.do_work()\n",
    "tom.speaks()\n",
    "\n",
    "maria=human(\"Maria\",\"tennis player\")\n",
    "maria.do_work()\n",
    "maria.speaks()\n",
    "            "
   ]
  },
  {
   "cell_type": "markdown",
   "metadata": {},
   "source": [
    "# Libraries to be imported"
   ]
  },
  {
   "cell_type": "code",
   "execution_count": 2,
   "metadata": {
    "collapsed": true
   },
   "outputs": [],
   "source": [
    "# Import Libraries\n",
    "\n",
    "import numpy as np\n",
    "from matplotlib import pyplot as plt\n",
    "%matplotlib inline\n",
    "import cv2\n",
    "import pandas as pd\n",
    "import skimage.io as io\n",
    "import seaborn as se"
   ]
  },
  {
   "cell_type": "markdown",
   "metadata": {
    "collapsed": true
   },
   "source": [
    "# Command to install the libraries"
   ]
  },
  {
   "cell_type": "code",
   "execution_count": 1,
   "metadata": {},
   "outputs": [
    {
     "ename": "SyntaxError",
     "evalue": "invalid syntax (<ipython-input-1-9c21f5807c5a>, line 1)",
     "output_type": "error",
     "traceback": [
      "\u001b[1;36m  File \u001b[1;32m\"<ipython-input-1-9c21f5807c5a>\"\u001b[1;36m, line \u001b[1;32m1\u001b[0m\n\u001b[1;33m    conda install -c conda-forge seaborn\u001b[0m\n\u001b[1;37m                ^\u001b[0m\n\u001b[1;31mSyntaxError\u001b[0m\u001b[1;31m:\u001b[0m invalid syntax\n"
     ]
    }
   ],
   "source": [
    "conda install -c conda-forge seaborn"
   ]
  },
  {
   "cell_type": "markdown",
   "metadata": {},
   "source": [
    "# Numpy"
   ]
  },
  {
   "cell_type": "code",
   "execution_count": 11,
   "metadata": {},
   "outputs": [
    {
     "name": "stdout",
     "output_type": "stream",
     "text": [
      "[[1 2 3]\n",
      " [4 5 6]]\n",
      "<class 'numpy.ndarray'>\n",
      "<class 'list'>\n",
      "(2, 3)\n",
      "int32\n"
     ]
    }
   ],
   "source": [
    "#Convert list to numpy array\n",
    "mylist=[[1,2,3],[4,5,6]]\n",
    "arr=np.asarray(mylist)\n",
    "print (arr)\n",
    "print(type(arr))\n",
    "print(type(mylist))\n",
    "print(arr.shape)\n",
    "print(arr.dtype)"
   ]
  },
  {
   "cell_type": "code",
   "execution_count": 15,
   "metadata": {},
   "outputs": [
    {
     "name": "stdout",
     "output_type": "stream",
     "text": [
      "[[4 5]\n",
      " [6 7]\n",
      " [8 9]]\n",
      "<class 'numpy.ndarray'>\n",
      "int32\n",
      "(3, 2)\n"
     ]
    }
   ],
   "source": [
    "#Create a numpy array\n",
    "arr1=np.array([[4,5],[6,7],[8,9]])\n",
    "print (arr1)\n",
    "print(type(arr1))\n",
    "print((arr1.dtype))\n",
    "print(arr1.shape)"
   ]
  },
  {
   "cell_type": "code",
   "execution_count": 20,
   "metadata": {},
   "outputs": [
    {
     "name": "stdout",
     "output_type": "stream",
     "text": [
      "(50, 6) float64\n",
      "0.0\n"
     ]
    }
   ],
   "source": [
    "arr0=np.zeros((50,6),dtype='float64')\n",
    "print(arr0.shape,arr0.dtype)\n",
    "print(arr0[3][3])"
   ]
  },
  {
   "cell_type": "code",
   "execution_count": 21,
   "metadata": {},
   "outputs": [
    {
     "name": "stdout",
     "output_type": "stream",
     "text": [
      "[ 0.  0.  0.  0.  0.  0.]\n"
     ]
    }
   ],
   "source": [
    "print (arr0[1][:])"
   ]
  },
  {
   "cell_type": "code",
   "execution_count": 22,
   "metadata": {},
   "outputs": [
    {
     "name": "stdout",
     "output_type": "stream",
     "text": [
      "[[ 1.  1.  1.  1.]\n",
      " [ 1.  1.  1.  1.]\n",
      " [ 1.  1.  1.  1.]\n",
      " [ 1.  1.  1.  1.]]\n"
     ]
    }
   ],
   "source": [
    "arr1=np.ones((4,4))\n",
    "print(arr1)"
   ]
  },
  {
   "cell_type": "code",
   "execution_count": 23,
   "metadata": {},
   "outputs": [
    {
     "name": "stdout",
     "output_type": "stream",
     "text": [
      "(4, 4)\n"
     ]
    }
   ],
   "source": [
    "print(arr1.shape)"
   ]
  },
  {
   "cell_type": "code",
   "execution_count": 27,
   "metadata": {},
   "outputs": [
    {
     "name": "stdout",
     "output_type": "stream",
     "text": [
      "16.0\n"
     ]
    }
   ],
   "source": [
    "print(arr1.sum()) # Total sum"
   ]
  },
  {
   "cell_type": "code",
   "execution_count": 42,
   "metadata": {},
   "outputs": [
    {
     "name": "stdout",
     "output_type": "stream",
     "text": [
      "[ 4.  4.  4.  4.]\n"
     ]
    }
   ],
   "source": [
    "print(sum(arr1[0:5])) # row-wise sum"
   ]
  },
  {
   "cell_type": "code",
   "execution_count": 9,
   "metadata": {},
   "outputs": [
    {
     "name": "stdout",
     "output_type": "stream",
     "text": [
      "[[ 1.  0.  0.  0.]\n",
      " [ 0.  1.  0.  0.]\n",
      " [ 0.  0.  1.  0.]\n",
      " [ 0.  0.  0.  1.]] (4, 4)\n"
     ]
    }
   ],
   "source": [
    "# Create Identity Matrix\n",
    "I=np.eye(4)\n",
    "print (I,I.shape)"
   ]
  },
  {
   "cell_type": "code",
   "execution_count": 11,
   "metadata": {},
   "outputs": [
    {
     "name": "stdout",
     "output_type": "stream",
     "text": [
      "(4, 4)\n",
      "[[ 1.  0.  0.  0.]\n",
      " [ 0.  1.  0.  0.]\n",
      " [ 0.  0.  1.  0.]\n",
      " [ 0.  0.  0.  1.]]\n"
     ]
    }
   ],
   "source": [
    "# Copy array\n",
    "arr1=I\n",
    "arr2=arr1.copy()\n",
    "print (arr2.shape)\n",
    "print (arr2)"
   ]
  },
  {
   "cell_type": "code",
   "execution_count": 21,
   "metadata": {},
   "outputs": [
    {
     "name": "stdout",
     "output_type": "stream",
     "text": [
      "(16, 1)\n",
      "(2, 8)\n"
     ]
    }
   ],
   "source": [
    "# Changing the shape of array\n",
    "arr3=arr2.reshape((16,1))\n",
    "arr4=arr2.reshape(2,-1)\n",
    "print (arr3.shape)\n",
    "print (arr4.shape)"
   ]
  },
  {
   "cell_type": "code",
   "execution_count": 30,
   "metadata": {},
   "outputs": [
    {
     "name": "stdout",
     "output_type": "stream",
     "text": [
      "[[ 0.75282589  0.260064    0.30321365  0.47289602]\n",
      " [ 0.92920846  0.66007945  0.81153825  0.41900615]\n",
      " [ 0.23195021  0.80114799  0.46647442  0.11833367]]\n",
      "[[4 5]\n",
      " [4 4]]\n"
     ]
    }
   ],
   "source": [
    "# Random arrays\n",
    "a=np.random.random((3,4))\n",
    "print (a)\n",
    "b=np.random.randint(4,6,(2,2))\n",
    "print (b)"
   ]
  },
  {
   "cell_type": "code",
   "execution_count": 32,
   "metadata": {},
   "outputs": [
    {
     "name": "stdout",
     "output_type": "stream",
     "text": [
      "4.25\n",
      "4.5\n",
      "4.5\n"
     ]
    }
   ],
   "source": [
    "#  Mean of array\n",
    "print (b.mean())\n",
    "print (b[0].mean())\n",
    "print (b[:][0].mean())"
   ]
  },
  {
   "cell_type": "code",
   "execution_count": 33,
   "metadata": {},
   "outputs": [
    {
     "name": "stdout",
     "output_type": "stream",
     "text": [
      "[[4 4]\n",
      " [5 4]]\n"
     ]
    }
   ],
   "source": [
    "# Transpose of matrix\n",
    "c=b.T\n",
    "print (c)"
   ]
  },
  {
   "cell_type": "code",
   "execution_count": 40,
   "metadata": {},
   "outputs": [
    {
     "name": "stdout",
     "output_type": "stream",
     "text": [
      "[[ 0.  0.  0.  0.]\n",
      " [ 0.  0.  0.  0.]\n",
      " [ 0.  0.  0.  0.]\n",
      " [ 0.  0.  0.  0.]]\n",
      "[[ 1.  1.  1.]\n",
      " [ 1.  1.  1.]\n",
      " [ 1.  1.  1.]\n",
      " [ 1.  1.  1.]]\n",
      "[[ 0.  0.  0.  0.  1.  1.  1.]\n",
      " [ 0.  0.  0.  0.  1.  1.  1.]\n",
      " [ 0.  0.  0.  0.  1.  1.  1.]\n",
      " [ 0.  0.  0.  0.  1.  1.  1.]]\n"
     ]
    }
   ],
   "source": [
    "# Concatenate matrices\n",
    "a1=np.zeros((4,4))\n",
    "a2=np.ones((4,3))\n",
    "a3=np.concatenate((a1,a2),axis=1)\n",
    "\n",
    "print(a1)\n",
    "print(a2)\n",
    "print(a3)\n"
   ]
  },
  {
   "cell_type": "code",
   "execution_count": 42,
   "metadata": {},
   "outputs": [
    {
     "name": "stdout",
     "output_type": "stream",
     "text": [
      "[[ 0.08333333  0.08333333  0.08333333  0.08333333]\n",
      " [ 0.08333333  0.08333333  0.08333333  0.08333333]\n",
      " [ 0.08333333  0.08333333  0.08333333  0.08333333]]\n"
     ]
    }
   ],
   "source": [
    "# Calculate invesre of a matrix\n",
    "a2_inv=np.linalg.pinv(a2)\n",
    "\n",
    "print(a2_inv)"
   ]
  },
  {
   "cell_type": "code",
   "execution_count": 45,
   "metadata": {},
   "outputs": [
    {
     "name": "stdout",
     "output_type": "stream",
     "text": [
      "[[18 28 30]\n",
      " [17 27 30]] (2, 3)\n"
     ]
    }
   ],
   "source": [
    "# Matrix multiplication\n",
    "a=np.array([[2,3],[3,2]])\n",
    "b=np.array([[3,5,6],[4,6,6]])\n",
    "c=a.dot(b)\n",
    "print (c,c.shape)"
   ]
  },
  {
   "cell_type": "code",
   "execution_count": 48,
   "metadata": {},
   "outputs": [
    {
     "name": "stdout",
     "output_type": "stream",
     "text": [
      "[[2 3]\n",
      " [3 2]]\n",
      "[[3 5]\n",
      " [4 6]]\n"
     ]
    },
    {
     "ename": "TypeError",
     "evalue": "only length-1 arrays can be converted to Python scalars",
     "output_type": "error",
     "traceback": [
      "\u001b[1;31m---------------------------------------------------------------------------\u001b[0m",
      "\u001b[1;31mTypeError\u001b[0m                                 Traceback (most recent call last)",
      "\u001b[1;32m<ipython-input-48-65a5600c080f>\u001b[0m in \u001b[0;36m<module>\u001b[1;34m()\u001b[0m\n\u001b[0;32m      5\u001b[0m \u001b[0mprint\u001b[0m\u001b[1;33m(\u001b[0m\u001b[0ma1\u001b[0m\u001b[1;33m)\u001b[0m\u001b[1;33m\u001b[0m\u001b[0m\n\u001b[0;32m      6\u001b[0m \u001b[0mprint\u001b[0m\u001b[1;33m(\u001b[0m\u001b[0mb1\u001b[0m\u001b[1;33m)\u001b[0m\u001b[1;33m\u001b[0m\u001b[0m\n\u001b[1;32m----> 7\u001b[1;33m \u001b[0mprint\u001b[0m \u001b[1;33m(\u001b[0m\u001b[0mfloat\u001b[0m\u001b[1;33m(\u001b[0m\u001b[0mc1\u001b[0m\u001b[1;33m)\u001b[0m\u001b[1;33m,\u001b[0m\u001b[0mc1\u001b[0m\u001b[1;33m.\u001b[0m\u001b[0mshape\u001b[0m\u001b[1;33m)\u001b[0m\u001b[1;33m\u001b[0m\u001b[0m\n\u001b[0m",
      "\u001b[1;31mTypeError\u001b[0m: only length-1 arrays can be converted to Python scalars"
     ]
    }
   ],
   "source": [
    "# Element wise Multiplication\n",
    "a1=np.array([[2,3],[3,2]])\n",
    "b1=np.array([[3,5],[4,6]])\n",
    "c1=a1*b1\n",
    "print(a1)\n",
    "print(b1)\n",
    "print ((c1),c1.shape)"
   ]
  },
  {
   "cell_type": "code",
   "execution_count": 49,
   "metadata": {},
   "outputs": [
    {
     "name": "stdout",
     "output_type": "stream",
     "text": [
      "[[  6.  15.]\n",
      " [ 12.  12.]]\n"
     ]
    }
   ],
   "source": [
    "c1=c1.astype(float)\n",
    "print (c1)"
   ]
  },
  {
   "cell_type": "code",
   "execution_count": 50,
   "metadata": {},
   "outputs": [
    {
     "name": "stdout",
     "output_type": "stream",
     "text": [
      "[[2 3]\n",
      " [3 2]\n",
      " [3 5]\n",
      " [6 4]\n",
      " [6 6]] (5, 2)\n"
     ]
    }
   ],
   "source": [
    "# Concatenate and reshape\n",
    "a=np.array([[2,3],[3,2]])\n",
    "b=np.array([[3,5,6],[4,6,6]])\n",
    "c=np.concatenate((a,b.reshape(-1,2)),axis=0)\n",
    "print (c,c.shape)"
   ]
  },
  {
   "cell_type": "markdown",
   "metadata": {},
   "source": [
    "# Lambda, Map and Filtering"
   ]
  },
  {
   "cell_type": "code",
   "execution_count": 34,
   "metadata": {},
   "outputs": [
    {
     "name": "stdout",
     "output_type": "stream",
     "text": [
      "[3, 4]\n",
      "[1, 4, 9, 16]\n"
     ]
    }
   ],
   "source": [
    "# Lambda function \n",
    "a=[1,2,3,4]\n",
    "t= filter(lambda x: x>2,a)\n",
    "print (list(t))\n",
    "\n",
    "# Mapping function\n",
    "y=map(lambda x:x**2,a)\n",
    "\n",
    "print(list(y))\n",
    "\n"
   ]
  },
  {
   "cell_type": "markdown",
   "metadata": {},
   "source": [
    "# Generator function"
   ]
  },
  {
   "cell_type": "code",
   "execution_count": 36,
   "metadata": {},
   "outputs": [
    {
     "name": "stdout",
     "output_type": "stream",
     "text": [
      "[3, 4, 5]\n"
     ]
    }
   ],
   "source": [
    "def add(x,y,z):\n",
    "    yield x+y\n",
    "    yield x+z\n",
    "    yield y+z\n",
    "    \n",
    "print (list(add(1,2,3))) "
   ]
  },
  {
   "cell_type": "code",
   "execution_count": null,
   "metadata": {
    "collapsed": true
   },
   "outputs": [],
   "source": []
  }
 ],
 "metadata": {
  "kernelspec": {
   "display_name": "Python 3",
   "language": "python",
   "name": "python3"
  },
  "language_info": {
   "codemirror_mode": {
    "name": "ipython",
    "version": 3
   },
   "file_extension": ".py",
   "mimetype": "text/x-python",
   "name": "python",
   "nbconvert_exporter": "python",
   "pygments_lexer": "ipython3",
   "version": "3.6.2"
  }
 },
 "nbformat": 4,
 "nbformat_minor": 2
}
